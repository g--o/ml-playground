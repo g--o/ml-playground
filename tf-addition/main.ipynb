{
 "cells": [
  {
   "cell_type": "markdown",
   "metadata": {},
   "source": [
    "## Hello, tensorflow\n",
    "\n",
    "*Task:* add two numbers."
   ]
  },
  {
   "cell_type": "code",
   "execution_count": 71,
   "metadata": {},
   "outputs": [],
   "source": [
    "COMPUTE_DEVICE = \"cpu\"  # \"cpu\"/\"gpu\"\n",
    "ARCHIVE_LOGS = False\n",
    "LOG_DIR = \"logs/fit/\"\n",
    "EPOCHS = 10\n",
    "GENS = 3000\n",
    "BATCHES = 5"
   ]
  },
  {
   "cell_type": "markdown",
   "metadata": {},
   "source": [
    "## Setup"
   ]
  },
  {
   "cell_type": "code",
   "execution_count": 72,
   "metadata": {},
   "outputs": [
    {
     "name": "stdout",
     "output_type": "stream",
     "text": [
      "The tensorboard extension is already loaded. To reload it, use:\n",
      "  %reload_ext tensorboard\n"
     ]
    }
   ],
   "source": [
    "import datetime\n",
    "import os\n",
    "import random\n",
    "import itertools\n",
    "from matplotlib import pyplot as plt\n",
    "\n",
    "## setup tensorflow\n",
    "\n",
    "if COMPUTE_DEVICE == \"cpu\":\n",
    "\tos.environ['CUDA_VISIBLE_DEVICES'] = '-1'\n",
    "if ARCHIVE_LOGS:\n",
    "\tLOG_DIR += datetime.datetime.now().strftime(\"%Y%m%d-%H%M%S\")\n",
    "\n",
    "import tensorflow as tf\n",
    "import keras\n",
    "\n",
    "%load_ext tensorboard\n",
    "\n",
    "## monitoring\n",
    "\n",
    "TENSORBOARD_CALLBACK = tf.keras.callbacks.TensorBoard(log_dir=LOG_DIR, histogram_freq=1)\n",
    "callbacks = []"
   ]
  },
  {
   "cell_type": "markdown",
   "metadata": {},
   "source": [
    "## Data & Model"
   ]
  },
  {
   "cell_type": "code",
   "execution_count": 73,
   "metadata": {},
   "outputs": [],
   "source": [
    "def gen_num(N=1000):\n",
    "\treturn random.uniform(-N,N)\n",
    "\n",
    "def TEST_SET(N=GENS):\n",
    "\tfor i in range(N):\n",
    "\t\ta,b = gen_num(), gen_num()\n",
    "\t\tinputs = (a,b)\n",
    "\t\toutputs = a+b\n",
    "\t\tyield inputs, outputs\n",
    "\n",
    "INPUT_TYPE = tf.TensorSpec(shape=(2), dtype=tf.float32)\n",
    "OUTPUT_TYPE = tf.TensorSpec(shape=(), dtype=tf.float32)\n",
    "\n",
    "dataset = tf.data.Dataset.from_generator(TEST_SET, output_signature=(INPUT_TYPE, OUTPUT_TYPE))\n",
    "\n",
    "def create_model():\n",
    "\treturn tf.keras.models.Sequential([\n",
    "\t\ttf.keras.layers.Dense(1)\n",
    "\t], name = \"guess\")"
   ]
  },
  {
   "cell_type": "markdown",
   "metadata": {},
   "source": [
    "## Processing"
   ]
  },
  {
   "cell_type": "code",
   "execution_count": 74,
   "metadata": {},
   "outputs": [
    {
     "name": "stdout",
     "output_type": "stream",
     "text": [
      "Epoch 1/10\n",
      "600/600 [==============================] - 2s 3ms/step - loss: 726154.0625\n",
      "Epoch 2/10\n",
      "600/600 [==============================] - 2s 3ms/step - loss: 330792.0625\n",
      "Epoch 3/10\n",
      "600/600 [==============================] - 2s 3ms/step - loss: 123090.5625\n",
      "Epoch 4/10\n",
      "600/600 [==============================] - 2s 3ms/step - loss: 37431.5625\n",
      "Epoch 5/10\n",
      "600/600 [==============================] - 2s 3ms/step - loss: 6909.4404\n",
      "Epoch 6/10\n",
      "600/600 [==============================] - 2s 3ms/step - loss: 815.5166\n",
      "Epoch 7/10\n",
      "600/600 [==============================] - 2s 3ms/step - loss: 46.4764\n",
      "Epoch 8/10\n",
      "600/600 [==============================] - 2s 3ms/step - loss: 0.9550\n",
      "Epoch 9/10\n",
      "600/600 [==============================] - 2s 3ms/step - loss: 0.0047\n",
      "Epoch 10/10\n",
      "600/600 [==============================] - 2s 3ms/step - loss: 2.3207e-04\n"
     ]
    },
    {
     "data": {
      "text/plain": [
       "<keras.callbacks.History at 0x7ff8add08df0>"
      ]
     },
     "execution_count": 74,
     "metadata": {},
     "output_type": "execute_result"
    }
   ],
   "source": [
    "model = create_model()\n",
    "model.compile(optimizer='adam', loss='mse')\n",
    "\n",
    "## monitoring\n",
    "callbacks += [TENSORBOARD_CALLBACK]\n",
    "\n",
    "## fitting\n",
    "model.fit(dataset.batch(BATCHES), epochs=EPOCHS, callbacks=callbacks)"
   ]
  },
  {
   "cell_type": "markdown",
   "metadata": {},
   "source": [
    "## Results"
   ]
  },
  {
   "cell_type": "code",
   "execution_count": 84,
   "metadata": {},
   "outputs": [
    {
     "name": "stdout",
     "output_type": "stream",
     "text": [
      "[<tf.Variable 'dense_35/kernel:0' shape=(2, 1) dtype=float32, numpy=\n",
      "array([[1.0000008 ],\n",
      "       [0.99999887]], dtype=float32)>, <tf.Variable 'dense_35/bias:0' shape=(1,) dtype=float32, numpy=array([0.01490674], dtype=float32)>]\n",
      "===============\n",
      "manual test\n",
      "[[73.214935]]\n",
      "73.2\n"
     ]
    }
   ],
   "source": [
    "print(model.trainable_variables)\n",
    "print(\"=\"*15)\n",
    "print(\"manual test\")\n",
    "print(model.predict([(55.5,17.7)]))\n",
    "print(55.5+17.7)\n",
    "# %tensorboard --logdir=\"$LOG_DIR\""
   ]
  }
 ],
 "metadata": {
  "interpreter": {
   "hash": "916dbcbb3f70747c44a77c7bcd40155683ae19c65e1c03b4aa3499c5328201f1"
  },
  "kernelspec": {
   "display_name": "Python 3.8.10 64-bit",
   "language": "python",
   "name": "python3"
  },
  "language_info": {
   "codemirror_mode": {
    "name": "ipython",
    "version": 3
   },
   "file_extension": ".py",
   "mimetype": "text/x-python",
   "name": "python",
   "nbconvert_exporter": "python",
   "pygments_lexer": "ipython3",
   "version": "3.8.10"
  },
  "orig_nbformat": 4
 },
 "nbformat": 4,
 "nbformat_minor": 2
}
