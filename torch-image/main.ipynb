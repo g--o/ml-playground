{
 "cells": [
  {
   "cell_type": "markdown",
   "metadata": {},
   "source": [
    "## Hello, torch\n",
    "Follows the basic torch demonstration of image classifier."
   ]
  },
  {
   "cell_type": "code",
   "execution_count": 142,
   "metadata": {},
   "outputs": [
    {
     "name": "stdout",
     "output_type": "stream",
     "text": [
      "Using cpu device\n"
     ]
    }
   ],
   "source": [
    "import torch\n",
    "from torch import nn\n",
    "from torch.utils.data import DataLoader\n",
    "from torchvision import datasets\n",
    "from torchvision.transforms import ToTensor\n",
    "\n",
    "from periodiclogger import PeriodicLogger\n",
    "import random\n",
    "\n",
    "logger = PeriodicLogger(100)\n",
    "batch_size = 32\n",
    "epochs = 1\n",
    "\n",
    "# Get cpu or gpu device for training.\n",
    "device = \"cuda\" if torch.cuda.is_available() else \"cpu\"\n",
    "print(f\"Using {device} device\")"
   ]
  },
  {
   "cell_type": "code",
   "execution_count": 136,
   "metadata": {},
   "outputs": [],
   "source": [
    "data_train = datasets.FashionMNIST(root=\"data\", train=True, download=True, transform=ToTensor())\n",
    "data_test = datasets.FashionMNIST(root=\"data\", train=False, download=True, transform=ToTensor())\n",
    "\n",
    "train_dataloader = DataLoader(data_test, batch_size=batch_size)\n",
    "test_dataloader = DataLoader(data_train, batch_size=batch_size)"
   ]
  },
  {
   "cell_type": "code",
   "execution_count": 137,
   "metadata": {},
   "outputs": [],
   "source": [
    "class NeuralNetwork(nn.Module):\n",
    "\tdef __init__(self):\n",
    "\t\tsuper().__init__()\n",
    "\t\tself.flatten = nn.Flatten()\n",
    "\t\tself.linear_relu_stack = nn.Sequential(\n",
    "\t\t\tnn.Linear(28*28, 512),\n",
    "\t\t\tnn.ReLU(),\n",
    "\t\t\tnn.Linear(512,512),\n",
    "\t\t\tnn.ReLU(),\n",
    "\t\t\tnn.Linear(512, 10)\n",
    "\t\t)\n",
    "\n",
    "\tdef forward(self, x):\n",
    "\t\tx = self.flatten(x)\n",
    "\t\tlogits = self.linear_relu_stack(x)\n",
    "\t\treturn logits"
   ]
  },
  {
   "cell_type": "code",
   "execution_count": 138,
   "metadata": {},
   "outputs": [],
   "source": [
    "model = NeuralNetwork().to(device)\n",
    "loss_fn = nn.CrossEntropyLoss()\n",
    "learning_rate = 1e-1\n",
    "optimizer = torch.optim.SGD(model.parameters(), lr=learning_rate)"
   ]
  },
  {
   "cell_type": "code",
   "execution_count": 139,
   "metadata": {},
   "outputs": [
    {
     "name": "stdout",
     "output_type": "stream",
     "text": [
      "tensor(2.2808, grad_fn=<NllLossBackward0>)\n",
      "tensor(1.0630, grad_fn=<NllLossBackward0>)\n",
      "tensor(1.0358, grad_fn=<NllLossBackward0>)\n",
      "tensor(0.6023, grad_fn=<NllLossBackward0>)\n",
      "tensor(0.4958, grad_fn=<NllLossBackward0>)\n",
      "tensor(0.4806, grad_fn=<NllLossBackward0>)\n",
      "tensor(0.4700, grad_fn=<NllLossBackward0>)\n",
      "tensor(0.4350, grad_fn=<NllLossBackward0>)\n",
      "tensor(0.2645, grad_fn=<NllLossBackward0>)\n",
      "tensor(0.4858, grad_fn=<NllLossBackward0>)\n",
      "tensor(0.3252, grad_fn=<NllLossBackward0>)\n",
      "tensor(0.5889, grad_fn=<NllLossBackward0>)\n",
      "tensor(0.4889, grad_fn=<NllLossBackward0>)\n",
      "tensor(0.5271, grad_fn=<NllLossBackward0>)\n",
      "tensor(0.6721, grad_fn=<NllLossBackward0>)\n",
      "tensor(0.2657, grad_fn=<NllLossBackward0>)\n",
      "tensor(0.4839, grad_fn=<NllLossBackward0>)\n",
      "tensor(0.4975, grad_fn=<NllLossBackward0>)\n",
      "tensor(0.4705, grad_fn=<NllLossBackward0>)\n"
     ]
    }
   ],
   "source": [
    "## training\n",
    "model.train()\n",
    "\n",
    "for i in range(epochs):\n",
    "\tfor (x,y) in test_dataloader:\n",
    "\t\tx,y = x.to(device), y.to(device)\n",
    "\t\tpred = model(x)\n",
    "\t\tloss = loss_fn(pred, y)\n",
    "\t\tlogger.log(loss)\n",
    "\n",
    "\t\t# backprop\n",
    "\t\toptimizer.zero_grad()\n",
    "\t\tloss.backward()\n",
    "\t\toptimizer.step()"
   ]
  },
  {
   "cell_type": "code",
   "execution_count": 140,
   "metadata": {},
   "outputs": [
    {
     "name": "stdout",
     "output_type": "stream",
     "text": [
      "0.3239265978336334\n",
      "0.2035355269908905\n",
      "0.47838345170021057\n",
      "0.5534130930900574\n",
      "0.4317190647125244\n",
      "0.44649818539619446\n",
      "0.6523025035858154\n",
      "0.6425979137420654\n",
      "0.29126209020614624\n",
      "0.5109928250312805\n",
      "0.20605285465717316\n",
      "0.4719986915588379\n",
      "0.2802724242210388\n",
      "0.3853141963481903\n",
      "0.43016672134399414\n",
      "0.6802259087562561\n",
      "0.4341000020503998\n",
      "0.30087921023368835\n",
      "0.1962161809206009\n"
     ]
    }
   ],
   "source": [
    "## testing\n",
    "model.eval()\n",
    "with torch.no_grad():\n",
    "\tfor x,y in test_dataloader:\n",
    "\t\tx,y = x.to(device), y.to(device)\n",
    "\t\tpred = model(x)\n",
    "\t\tlogger.log(loss_fn(pred, y).item())"
   ]
  },
  {
   "cell_type": "code",
   "execution_count": 144,
   "metadata": {},
   "outputs": [
    {
     "name": "stdout",
     "output_type": "stream",
     "text": [
      "Predicted: Sneaker, Actual: Sneaker, Confidence: 99.98%\n",
      "Predicted: Coat, Actual: Coat, Confidence: 99.30%\n",
      "Predicted: Dress, Actual: Dress, Confidence: 98.39%\n",
      "Predicted: Dress, Actual: Dress, Confidence: 98.39%\n",
      "Predicted: T-shirt/top, Actual: T-shirt/top, Confidence: 99.73%\n"
     ]
    }
   ],
   "source": [
    "classes = [\n",
    "    \"T-shirt/top\",\n",
    "    \"Trouser\",\n",
    "    \"Pullover\",\n",
    "    \"Dress\",\n",
    "    \"Coat\",\n",
    "    \"Sandal\",\n",
    "    \"Shirt\",\n",
    "    \"Sneaker\",\n",
    "    \"Bag\",\n",
    "    \"Ankle boot\",\n",
    "]\n",
    "\n",
    "model.eval()\n",
    "for i in range(5):\n",
    "    j = random.randint(0,10000)\n",
    "    x, y = data_test[j]\n",
    "    with torch.no_grad():\n",
    "        pred = model(x)\n",
    "        best_index = pred[0].argmax(0)\n",
    "        predicted, actual = classes[best_index], classes[y]\n",
    "        logit = pred[0][best_index]\n",
    "        prob = (1/(1+torch.exp(-logit)))*100\n",
    "        print(f'Predicted: {predicted}, Actual: {actual}, Confidence: {prob:.2f}%')"
   ]
  }
 ],
 "metadata": {
  "interpreter": {
   "hash": "916dbcbb3f70747c44a77c7bcd40155683ae19c65e1c03b4aa3499c5328201f1"
  },
  "kernelspec": {
   "display_name": "Python 3.8.10 64-bit",
   "language": "python",
   "name": "python3"
  },
  "language_info": {
   "codemirror_mode": {
    "name": "ipython",
    "version": 3
   },
   "file_extension": ".py",
   "mimetype": "text/x-python",
   "name": "python",
   "nbconvert_exporter": "python",
   "pygments_lexer": "ipython3",
   "version": "3.8.10"
  },
  "orig_nbformat": 4
 },
 "nbformat": 4,
 "nbformat_minor": 2
}
