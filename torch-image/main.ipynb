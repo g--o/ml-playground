{
 "cells": [
  {
   "cell_type": "markdown",
   "metadata": {},
   "source": [
    "## Hello, torch\n",
    "Follows the basic torch demonstration of image classifier."
   ]
  },
  {
   "cell_type": "code",
   "execution_count": 43,
   "metadata": {},
   "outputs": [
    {
     "name": "stdout",
     "output_type": "stream",
     "text": [
      "Using cpu device\n"
     ]
    }
   ],
   "source": [
    "import torch\n",
    "from torch import nn\n",
    "from torch.utils.data import DataLoader\n",
    "from torchvision import datasets\n",
    "from torchvision.transforms import ToTensor\n",
    "\n",
    "from periodiclogger import PeriodicLogger\n",
    "import random\n",
    "\n",
    "logger = PeriodicLogger(100)\n",
    "batch_size = 32\n",
    "epochs = 1\n",
    "\n",
    "# Get cpu or gpu device for training.\n",
    "device = \"cuda\" if torch.cuda.is_available() else \"cpu\"\n",
    "print(f\"Using {device} device\")"
   ]
  },
  {
   "cell_type": "code",
   "execution_count": 44,
   "metadata": {},
   "outputs": [],
   "source": [
    "data_train = datasets.FashionMNIST(root=\"data\", train=True, download=True, transform=ToTensor())\n",
    "data_test = datasets.FashionMNIST(root=\"data\", train=False, download=True, transform=ToTensor())\n",
    "\n",
    "train_dataloader = DataLoader(data_test, batch_size=batch_size)\n",
    "test_dataloader = DataLoader(data_train, batch_size=batch_size)"
   ]
  },
  {
   "cell_type": "code",
   "execution_count": 45,
   "metadata": {},
   "outputs": [],
   "source": [
    "class NeuralNetwork(nn.Module):\n",
    "\tdef __init__(self):\n",
    "\t\tsuper().__init__()\n",
    "\t\tself.flatten = nn.Flatten()\n",
    "\t\tself.linear_relu_stack = nn.Sequential(\n",
    "\t\t\tnn.Linear(28*28, 512),\n",
    "\t\t\tnn.ReLU(),\n",
    "\t\t\tnn.Linear(512,512),\n",
    "\t\t\tnn.ReLU(),\n",
    "\t\t\tnn.Linear(512, 10)\n",
    "\t\t)\n",
    "\n",
    "\tdef forward(self, x):\n",
    "\t\tx = self.flatten(x)\n",
    "\t\tlogits = self.linear_relu_stack(x)\n",
    "\t\treturn logits"
   ]
  },
  {
   "cell_type": "code",
   "execution_count": 46,
   "metadata": {},
   "outputs": [],
   "source": [
    "model = NeuralNetwork().to(device)\n",
    "loss_fn = nn.CrossEntropyLoss()\n",
    "learning_rate = 1e-1\n",
    "optimizer = torch.optim.SGD(model.parameters(), lr=learning_rate)"
   ]
  },
  {
   "cell_type": "code",
   "execution_count": 47,
   "metadata": {},
   "outputs": [
    {
     "name": "stdout",
     "output_type": "stream",
     "text": [
      "tensor(2.3116, grad_fn=<NllLossBackward0>)\n",
      "tensor(1.0440, grad_fn=<NllLossBackward0>)\n",
      "tensor(1.0431, grad_fn=<NllLossBackward0>)\n",
      "tensor(0.5885, grad_fn=<NllLossBackward0>)\n",
      "tensor(0.5118, grad_fn=<NllLossBackward0>)\n",
      "tensor(0.4898, grad_fn=<NllLossBackward0>)\n",
      "tensor(0.4748, grad_fn=<NllLossBackward0>)\n",
      "tensor(0.4570, grad_fn=<NllLossBackward0>)\n",
      "tensor(0.2457, grad_fn=<NllLossBackward0>)\n",
      "tensor(0.4891, grad_fn=<NllLossBackward0>)\n",
      "tensor(0.3171, grad_fn=<NllLossBackward0>)\n",
      "tensor(0.6129, grad_fn=<NllLossBackward0>)\n",
      "tensor(0.4838, grad_fn=<NllLossBackward0>)\n",
      "tensor(0.5558, grad_fn=<NllLossBackward0>)\n",
      "tensor(0.6510, grad_fn=<NllLossBackward0>)\n",
      "tensor(0.2671, grad_fn=<NllLossBackward0>)\n",
      "tensor(0.4899, grad_fn=<NllLossBackward0>)\n",
      "tensor(0.5030, grad_fn=<NllLossBackward0>)\n",
      "tensor(0.4494, grad_fn=<NllLossBackward0>)\n"
     ]
    }
   ],
   "source": [
    "## training\n",
    "model.train()\n",
    "\n",
    "for i in range(epochs):\n",
    "\tfor (x,y) in test_dataloader:\n",
    "\t\tx,y = x.to(device), y.to(device)\n",
    "\t\tpred = model(x)\n",
    "\t\tloss = loss_fn(pred, y)\n",
    "\t\tlogger.log(loss)\n",
    "\n",
    "\t\t# backprop\n",
    "\t\toptimizer.zero_grad()\n",
    "\t\tloss.backward()\n",
    "\t\toptimizer.step()"
   ]
  },
  {
   "cell_type": "code",
   "execution_count": 48,
   "metadata": {},
   "outputs": [
    {
     "name": "stdout",
     "output_type": "stream",
     "text": [
      "0.33772021532058716\n",
      "0.18791058659553528\n",
      "0.47007110714912415\n",
      "0.5518968105316162\n",
      "0.412311315536499\n",
      "0.46446552872657776\n",
      "0.6353407502174377\n",
      "0.6330277323722839\n",
      "0.2881247401237488\n",
      "0.5271233320236206\n",
      "0.20862144231796265\n",
      "0.4804372191429138\n",
      "0.25594621896743774\n",
      "0.35763826966285706\n",
      "0.4302162528038025\n",
      "0.6601241827011108\n",
      "0.42624515295028687\n",
      "0.292507529258728\n",
      "0.18743085861206055\n"
     ]
    }
   ],
   "source": [
    "## testing\n",
    "model.eval()\n",
    "with torch.no_grad():\n",
    "\tfor x,y in test_dataloader:\n",
    "\t\tx,y = x.to(device), y.to(device)\n",
    "\t\tpred = model(x)\n",
    "\t\tlogger.log(loss_fn(pred, y).item())"
   ]
  },
  {
   "cell_type": "code",
   "execution_count": 50,
   "metadata": {},
   "outputs": [
    {
     "name": "stdout",
     "output_type": "stream",
     "text": [
      "Predicted: Bag, Actual: Bag, Confidence: 98.57%\n",
      "Predicted: Trouser, Actual: Trouser, Confidence: 99.96%\n",
      "Predicted: Coat, Actual: Coat, Confidence: 92.86%\n",
      "Predicted: Sneaker, Actual: Sneaker, Confidence: 99.73%\n",
      "Predicted: T-shirt/top, Actual: Shirt, Confidence: 48.78%\n"
     ]
    }
   ],
   "source": [
    "classes = [\n",
    "    \"T-shirt/top\",\n",
    "    \"Trouser\",\n",
    "    \"Pullover\",\n",
    "    \"Dress\",\n",
    "    \"Coat\",\n",
    "    \"Sandal\",\n",
    "    \"Shirt\",\n",
    "    \"Sneaker\",\n",
    "    \"Bag\",\n",
    "    \"Ankle boot\",\n",
    "]\n",
    "\n",
    "model.eval()\n",
    "for i in range(5):\n",
    "    j = random.randint(0,10000)\n",
    "    x, y = data_test[j]\n",
    "    with torch.no_grad():\n",
    "        pred = model(x)\n",
    "        best_index = pred[0].argmax(0)\n",
    "        predicted, actual = classes[best_index], classes[y]\n",
    "        prob = torch.softmax(pred[0], dim=0)[best_index]*100\n",
    "        # logit = pred[0][best_index]\n",
    "        # prob = (1/(1+torch.exp(-logit)))*100\n",
    "        print(f'Predicted: {predicted}, Actual: {actual}, Confidence: {prob:.2f}%')"
   ]
  }
 ],
 "metadata": {
  "interpreter": {
   "hash": "916dbcbb3f70747c44a77c7bcd40155683ae19c65e1c03b4aa3499c5328201f1"
  },
  "kernelspec": {
   "display_name": "Python 3.8.10 64-bit",
   "language": "python",
   "name": "python3"
  },
  "language_info": {
   "codemirror_mode": {
    "name": "ipython",
    "version": 3
   },
   "file_extension": ".py",
   "mimetype": "text/x-python",
   "name": "python",
   "nbconvert_exporter": "python",
   "pygments_lexer": "ipython3",
   "version": "3.8.10"
  },
  "orig_nbformat": 4
 },
 "nbformat": 4,
 "nbformat_minor": 2
}
